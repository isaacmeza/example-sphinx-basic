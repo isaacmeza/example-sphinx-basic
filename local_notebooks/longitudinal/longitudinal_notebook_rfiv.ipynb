{
 "cells": [
  {
   "cell_type": "code",
   "execution_count": 65,
   "metadata": {},
   "outputs": [],
   "source": [
    "import sys\n",
    "import os\n",
    "\n",
    "# Add the simulations/mcpy directory to the Python path\n",
    "sys.path.append(os.path.abspath(os.path.join(os.getcwd(), '../../simulations')))\n",
    "\n",
    "import numpy as np\n",
    "import pandas as pd\n",
    "\n",
    "import ivfunctions_nested \n",
    "import simulations.dgps_nested as dgps\n",
    "import matplotlib.pyplot as plt\n",
    "\n",
    "from nnpiv.ensemble import EnsembleIV, EnsembleIVL2, Ensemble2IV, Ensemble2IVL2\n",
    " \n",
    "from sklearn.ensemble import RandomForestRegressor, RandomForestClassifier\n",
    "from sklearn.base import clone\n",
    "from sklearn.model_selection import KFold\n",
    "from sklearn.metrics import mean_squared_error"
   ]
  },
  {
   "cell_type": "code",
   "execution_count": 66,
   "metadata": {},
   "outputs": [],
   "source": [
    "fn_number = 15\n",
    "tau_fn = dgps.get_tau_fn(fn_number)"
   ]
  },
  {
   "cell_type": "code",
   "execution_count": 67,
   "metadata": {},
   "outputs": [],
   "source": [
    "A, D, B, C, Y, tau_fn = dgps.get_data(3000, 10, 10, tau_fn, 2)\n",
    "\n",
    "\n",
    "B_test = np.zeros((1000, B.shape[1]))\n",
    "B_test += np.median(B, axis=0, keepdims=True)\n",
    "B_test[:, 0] = np.linspace(np.percentile(B[:, 0], 5), np.percentile(B[:, 0], 95), 1000)\n",
    "\n",
    "B_test = B_test[np.argsort(B_test[:, 0])]\n",
    "true_fn = tau_fn(B_test)\n"
   ]
  },
  {
   "cell_type": "code",
   "execution_count": 68,
   "metadata": {},
   "outputs": [],
   "source": [
    "def nested_npivfit(A, B, C, D, Y, B_test, model, fitargs=None):\n",
    "    \n",
    "    B1_test = B_test\n",
    "    Y = Y\n",
    "    A1 = A\n",
    "    B1 = B\n",
    "    A2 = D\n",
    "    B2 = C\n",
    "\n",
    "    #First stage\n",
    "    if fitargs is not None:\n",
    "        model.fit(A2, A1, Y, **fitargs)\n",
    "    else:\n",
    "        model.fit(A2, A1, Y)\n",
    "    bridge_fs = model.predict(A1)\n",
    "    bridge_fs = bridge_fs.reshape(A1.shape[:1] + Y.shape[1:])\n",
    "\n",
    "    #Second stage\n",
    "    if fitargs is not None:\n",
    "        model.fit(B2, B1, bridge_fs, **fitargs)\n",
    "    else:\n",
    "        model.fit(B2, B1, bridge_fs)\n",
    "    \n",
    "    y_pred = model.predict(B1_test)\n",
    "    return y_pred.reshape(B1_test.shape[:1] + Y.shape[1:])\n",
    "\n",
    "\n",
    "\n"
   ]
  },
  {
   "cell_type": "code",
   "execution_count": 69,
   "metadata": {},
   "outputs": [],
   "source": [
    "rfiv_model = EnsembleIV(n_iter=200, max_abs_value=2)\n",
    "rfiv_pred = nested_npivfit(A, B, C, D, Y, B_test, model=rfiv_model)\n",
    " "
   ]
  },
  {
   "cell_type": "code",
   "execution_count": 70,
   "metadata": {},
   "outputs": [],
   "source": [
    "adversary = RandomForestRegressor(n_estimators=40, max_depth=2,\n",
    "                                    bootstrap=True, min_samples_leaf=40, min_impurity_decrease=0.001)\n",
    "\n",
    "learnerh =  RandomForestRegressor(n_estimators=40, max_depth=2,\n",
    "                                    bootstrap=True, min_samples_leaf=40, min_impurity_decrease=0.001)\n",
    "\n",
    "rfivl2_model = EnsembleIVL2(n_iter=400, adversary=adversary, learner=learnerh)\n",
    "\n",
    "#rfivl2_pred = nested_npivfit(A, B, C, D, Y, B_test, model=rfivl2_model)"
   ]
  },
  {
   "cell_type": "code",
   "execution_count": 71,
   "metadata": {},
   "outputs": [],
   "source": [
    "adversary = RandomForestRegressor(n_estimators=100, max_depth=None,\n",
    "                                    bootstrap=True, min_samples_leaf=40, min_impurity_decrease=0.001)\n",
    "learnerg = RandomForestClassifier(n_estimators=50, max_depth=None, criterion='gini',\n",
    "                                    bootstrap=False, min_samples_leaf=40, min_impurity_decrease=0.001)\n",
    "learnerh = RandomForestClassifier(n_estimators=50, max_depth=None, criterion='gini',\n",
    "                                    bootstrap=False, min_samples_leaf=40, min_impurity_decrease=0.001)\n",
    "\n",
    "rfiv2_model = Ensemble2IV(n_iter=500, max_abs_value=2, adversary=adversary, learnerg=learnerg, learnerh=learnerh, n_burn_in=400)\n",
    "\n",
    "#rfiv2_model = Ensemble2IV(n_iter=200, max_abs_value=4)\n",
    "rfiv2_pred = rfiv2_model.fit(A, B, C, D, Y).predict(B_test)"
   ]
  },
  {
   "cell_type": "code",
   "execution_count": 72,
   "metadata": {},
   "outputs": [],
   "source": [
    "adversary = RandomForestRegressor(n_estimators=40, max_depth=2,\n",
    "                                    bootstrap=True, min_samples_leaf=40, min_impurity_decrease=0.001)\n",
    "learnerg = RandomForestRegressor(n_estimators=40, max_depth=2,\n",
    "                                    bootstrap=True, min_samples_leaf=40, min_impurity_decrease=0.001)\n",
    "learnerh =  RandomForestRegressor(n_estimators=40, max_depth=2,\n",
    "                                    bootstrap=True, min_samples_leaf=40, min_impurity_decrease=0.001)\n",
    "\n",
    "\n",
    "rfiv2l2_model = Ensemble2IVL2(n_iter=400, adversary=adversary, learnerg=learnerg, learnerh=learnerh, n_burn_in=10)\n",
    "\n",
    "#rfiv2l2_pred = rfiv2l2_model.fit(A, B, C, D, Y).predict(B_test)"
   ]
  },
  {
   "cell_type": "code",
   "execution_count": 73,
   "metadata": {},
   "outputs": [
    {
     "data": {
      "text/plain": [
       "<matplotlib.legend.Legend at 0x22cc34cb820>"
      ]
     },
     "execution_count": 73,
     "metadata": {},
     "output_type": "execute_result"
    },
    {
     "data": {
      "image/png": "[encoded data removed]",
      "text/plain": [
       "<Figure size 640x480 with 1 Axes>"
      ]
     },
     "metadata": {},
     "output_type": "display_data"
    }
   ],
   "source": [
    "plt.plot(B_test[:, 0], true_fn, label='True value')\n",
    "plt.plot(B_test[:, 0], rfiv_pred, label='EnsembleIV')\n",
    "#plt.plot(B_test[:, 0], rfivl2_pred, label='EnsembleIVL2')\n",
    "plt.plot(B_test[:, 0], rfiv2_pred, label='Ensemble2IV')\n",
    "#plt.plot(B_test[:, 0], rfiv2l2_pred, label='Ensemble2IVL2')\n",
    "plt.legend()\n"
   ]
  },
  {
   "cell_type": "code",
   "execution_count": null,
   "metadata": {},
   "outputs": [],
   "source": []
  },
  {
   "cell_type": "code",
   "execution_count": null,
   "metadata": {},
   "outputs": [],
   "source": []
  }
 ],
 "metadata": {
  "kernelspec": {
   "display_name": "nnpiv_venv",
   "language": "python",
   "name": "python3"
  },
  "language_info": {
   "codemirror_mode": {
    "name": "ipython",
    "version": 3
   },
   "file_extension": ".py",
   "mimetype": "text/x-python",
   "name": "python",
   "nbconvert_exporter": "python",
   "pygments_lexer": "ipython3",
   "version": "3.9.13"
  }
 },
 "nbformat": 4,
 "nbformat_minor": 2
}
